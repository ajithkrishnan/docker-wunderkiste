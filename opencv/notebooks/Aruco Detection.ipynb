{
 "cells": [
  {
   "cell_type": "code",
   "execution_count": 1,
   "id": "65ad0ece",
   "metadata": {},
   "outputs": [],
   "source": [
    "import cv2"
   ]
  },
  {
   "cell_type": "code",
   "execution_count": 2,
   "id": "68962070",
   "metadata": {},
   "outputs": [],
   "source": [
    "import numpy as np"
   ]
  },
  {
   "cell_type": "code",
   "execution_count": 3,
   "id": "6cfb09c4",
   "metadata": {},
   "outputs": [],
   "source": [
    "ARUCO_DICT = {\n",
    "\t\"DICT_4X4_50\": cv2.aruco.DICT_4X4_50,\n",
    "\t\"DICT_4X4_100\": cv2.aruco.DICT_4X4_100,\n",
    "\t\"DICT_4X4_250\": cv2.aruco.DICT_4X4_250,\n",
    "\t\"DICT_4X4_1000\": cv2.aruco.DICT_4X4_1000,\n",
    "\t\"DICT_5X5_50\": cv2.aruco.DICT_5X5_50,\n",
    "\t\"DICT_5X5_100\": cv2.aruco.DICT_5X5_100,\n",
    "\t\"DICT_5X5_250\": cv2.aruco.DICT_5X5_250,\n",
    "\t\"DICT_5X5_1000\": cv2.aruco.DICT_5X5_1000,\n",
    "\t\"DICT_6X6_50\": cv2.aruco.DICT_6X6_50,\n",
    "\t\"DICT_6X6_100\": cv2.aruco.DICT_6X6_100,\n",
    "\t\"DICT_6X6_250\": cv2.aruco.DICT_6X6_250,\n",
    "\t\"DICT_6X6_1000\": cv2.aruco.DICT_6X6_1000,\n",
    "\t\"DICT_7X7_50\": cv2.aruco.DICT_7X7_50,\n",
    "\t\"DICT_7X7_100\": cv2.aruco.DICT_7X7_100,\n",
    "\t\"DICT_7X7_250\": cv2.aruco.DICT_7X7_250,\n",
    "\t\"DICT_7X7_1000\": cv2.aruco.DICT_7X7_1000,\n",
    "\t\"DICT_ARUCO_ORIGINAL\": cv2.aruco.DICT_ARUCO_ORIGINAL,\n",
    "\t\"DICT_APRILTAG_16h5\": cv2.aruco.DICT_APRILTAG_16h5,\n",
    "\t\"DICT_APRILTAG_25h9\": cv2.aruco.DICT_APRILTAG_25h9,\n",
    "\t\"DICT_APRILTAG_36h10\": cv2.aruco.DICT_APRILTAG_36h10,\n",
    "\t\"DICT_APRILTAG_36h11\": cv2.aruco.DICT_APRILTAG_36h11\n",
    "}"
   ]
  },
  {
   "cell_type": "code",
   "execution_count": 4,
   "id": "281db135",
   "metadata": {},
   "outputs": [],
   "source": [
    "arucoDict = cv2.aruco.Dictionary_get(ARUCO_DICT[\"DICT_4X4_50\"])"
   ]
  },
  {
   "cell_type": "code",
   "execution_count": 22,
   "id": "3ea6f5f1",
   "metadata": {},
   "outputs": [],
   "source": [
    "tag = np.zeros((300, 300), dtype=\"uint8\")"
   ]
  },
  {
   "cell_type": "code",
   "execution_count": 24,
   "id": "c0a869e8",
   "metadata": {},
   "outputs": [
    {
     "data": {
      "text/plain": [
       "array([[0, 0, 0, ..., 0, 0, 0],\n",
       "       [0, 0, 0, ..., 0, 0, 0],\n",
       "       [0, 0, 0, ..., 0, 0, 0],\n",
       "       ...,\n",
       "       [0, 0, 0, ..., 0, 0, 0],\n",
       "       [0, 0, 0, ..., 0, 0, 0],\n",
       "       [0, 0, 0, ..., 0, 0, 0]], dtype=uint8)"
      ]
     },
     "execution_count": 24,
     "metadata": {},
     "output_type": "execute_result"
    }
   ],
   "source": [
    "cv2.aruco.drawMarker(arucoDict, 0, 300, tag, 1)"
   ]
  },
  {
   "cell_type": "code",
   "execution_count": 25,
   "id": "6201c143",
   "metadata": {},
   "outputs": [],
   "source": [
    "cv2.imshow(\"aruco_tag\", tag)\n",
    "cv2.waitKey(0)\n",
    "cv2.destroyAllWindows()"
   ]
  },
  {
   "cell_type": "code",
   "execution_count": 26,
   "id": "0a22c6fb",
   "metadata": {},
   "outputs": [
    {
     "data": {
      "text/plain": [
       "True"
      ]
     },
     "execution_count": 26,
     "metadata": {},
     "output_type": "execute_result"
    }
   ],
   "source": [
    "cv2.imwrite(\"aruco_tag_4x4_50_0.jpg\", tag)"
   ]
  },
  {
   "cell_type": "code",
   "execution_count": 5,
   "id": "46e58fea",
   "metadata": {},
   "outputs": [],
   "source": [
    "import imutils"
   ]
  },
  {
   "cell_type": "code",
   "execution_count": 29,
   "id": "063d022f",
   "metadata": {},
   "outputs": [],
   "source": [
    "aruco_img = cv2.imread(\"aruco_markers_4x4_1000.jpg\")\n",
    "aruco_img = imutils.resize(aruco_img, 600)\n",
    "cv2.imshow(\"aruco_tag\", aruco_img)\n",
    "cv2.waitKey(0)\n",
    "cv2.destroyAllWindows()"
   ]
  },
  {
   "cell_type": "code",
   "execution_count": 13,
   "id": "f297e75b",
   "metadata": {},
   "outputs": [],
   "source": [
    "aruco_params = cv2.aruco.DetectorParameters_create()\n",
    "(corners, ids , rejected) = cv2.aruco.detectMarkers(aruco_img, arucoDict, parameters=aruco_params)"
   ]
  },
  {
   "cell_type": "code",
   "execution_count": 30,
   "id": "53d0b9ea",
   "metadata": {},
   "outputs": [
    {
     "data": {
      "text/plain": [
       "array([2, 1, 3, 0], dtype=int32)"
      ]
     },
     "execution_count": 30,
     "metadata": {},
     "output_type": "execute_result"
    }
   ],
   "source": [
    "ids"
   ]
  },
  {
   "cell_type": "code",
   "execution_count": 31,
   "id": "8f5ed275",
   "metadata": {},
   "outputs": [
    {
     "data": {
      "text/plain": [
       "[array([[[515., 361.],\n",
       "         [545., 360.],\n",
       "         [546., 390.],\n",
       "         [516., 391.]]], dtype=float32),\n",
       " array([[[426., 361.],\n",
       "         [486., 360.],\n",
       "         [487., 390.],\n",
       "         [428., 391.]]], dtype=float32),\n",
       " array([[[146., 358.],\n",
       "         [176., 357.],\n",
       "         [177., 387.],\n",
       "         [147., 388.]]], dtype=float32),\n",
       " array([[[505.,  46.],\n",
       "         [551.,  48.],\n",
       "         [548., 122.],\n",
       "         [505., 121.]]], dtype=float32),\n",
       " array([[[ 87.,  53.],\n",
       "         [117.,  51.],\n",
       "         [118.,  81.],\n",
       "         [ 88.,  82.]]], dtype=float32)]"
      ]
     },
     "execution_count": 31,
     "metadata": {},
     "output_type": "execute_result"
    }
   ],
   "source": [
    "rejected"
   ]
  },
  {
   "cell_type": "code",
   "execution_count": 6,
   "id": "a81aee90",
   "metadata": {},
   "outputs": [],
   "source": [
    "def detectMarkers(aruco_img, arucoDict):\n",
    "    \n",
    "    aruco_params = cv2.aruco.DetectorParameters_create()\n",
    "    (corners, ids , rejected) = cv2.aruco.detectMarkers(aruco_img, arucoDict, parameters=aruco_params)\n",
    "    if len(corners)>0:\n",
    "        ids = ids.flatten()\n",
    "\n",
    "        for (marker_corner, marker_id) in zip(corners, ids):\n",
    "            marker_corner = marker_corner.reshape((4,2))      \n",
    "            (topLeft, topRight, bottomRight, bottomLeft) = marker_corner\n",
    "            topRight = (int(topRight[0]), int(topRight[1]))\n",
    "            bottomRight = (int(bottomRight[0]), int(bottomRight[1]))\n",
    "            bottomLeft = (int(bottomLeft[0]), int(bottomLeft[1]))\n",
    "            topLeft = (int(topLeft[0]), int(topLeft[1]))\n",
    "\n",
    "            cv2.line(aruco_img, topLeft, topRight, (0, 255, 0), 2)\n",
    "            cv2.line(aruco_img, topRight, bottomRight, (0, 255, 0), 2)\n",
    "            cv2.line(aruco_img, bottomRight, bottomLeft, (0, 255, 0), 2)\n",
    "            cv2.line(aruco_img, bottomLeft, topLeft, (0, 255, 0), 2)\n",
    "\n",
    "            cX = int((topLeft[0] + bottomRight[0]) / 2.0)\n",
    "            cY = int((topLeft[1] + bottomRight[1]) / 2.0)\n",
    "            cv2.circle(aruco_img, (cX, cY), 4, (0, 0, 255), -1)\n",
    "\n",
    "            cv2.putText(aruco_img, str(marker_id),\n",
    "            (topLeft[0], topLeft[1] - 5), cv2.FONT_HERSHEY_SIMPLEX,\n",
    "            0.5, (0, 255, 0), 2)\n",
    "            print(\"[INFO] ArUco marker ID: {}\".format(marker_id))\n",
    "        \n",
    "        \n",
    "            return aruco_img"
   ]
  },
  {
   "cell_type": "code",
   "execution_count": 7,
   "id": "1b590b47",
   "metadata": {},
   "outputs": [
    {
     "ename": "NameError",
     "evalue": "name 'aruco_img' is not defined",
     "output_type": "error",
     "traceback": [
      "\u001b[0;31m---------------------------------------------------------------------------\u001b[0m",
      "\u001b[0;31mNameError\u001b[0m                                 Traceback (most recent call last)",
      "\u001b[0;32m<ipython-input-7-ff3fa14492ab>\u001b[0m in \u001b[0;36m<module>\u001b[0;34m\u001b[0m\n\u001b[0;32m----> 1\u001b[0;31m \u001b[0mcv2\u001b[0m\u001b[0;34m.\u001b[0m\u001b[0mimshow\u001b[0m\u001b[0;34m(\u001b[0m\u001b[0;34m\"aruco_tag\"\u001b[0m\u001b[0;34m,\u001b[0m \u001b[0maruco_img\u001b[0m\u001b[0;34m)\u001b[0m\u001b[0;34m\u001b[0m\u001b[0;34m\u001b[0m\u001b[0m\n\u001b[0m\u001b[1;32m      2\u001b[0m \u001b[0mcv2\u001b[0m\u001b[0;34m.\u001b[0m\u001b[0mwaitKey\u001b[0m\u001b[0;34m(\u001b[0m\u001b[0;36m0\u001b[0m\u001b[0;34m)\u001b[0m\u001b[0;34m\u001b[0m\u001b[0;34m\u001b[0m\u001b[0m\n\u001b[1;32m      3\u001b[0m \u001b[0mcv2\u001b[0m\u001b[0;34m.\u001b[0m\u001b[0mdestroyAllWindows\u001b[0m\u001b[0;34m(\u001b[0m\u001b[0;34m)\u001b[0m\u001b[0;34m\u001b[0m\u001b[0;34m\u001b[0m\u001b[0m\n",
      "\u001b[0;31mNameError\u001b[0m: name 'aruco_img' is not defined"
     ]
    }
   ],
   "source": [
    "cv2.imshow(\"aruco_tag\", aruco_img)\n",
    "cv2.waitKey(0)\n",
    "cv2.destroyAllWindows()"
   ]
  },
  {
   "cell_type": "code",
   "execution_count": 8,
   "id": "5dc9bce4",
   "metadata": {},
   "outputs": [],
   "source": [
    "import sys"
   ]
  },
  {
   "cell_type": "code",
   "execution_count": 13,
   "id": "e2a7f907",
   "metadata": {},
   "outputs": [],
   "source": [
    "capture = cv2.VideoCapture(2)"
   ]
  },
  {
   "cell_type": "code",
   "execution_count": null,
   "id": "2d23f1b2",
   "metadata": {},
   "outputs": [],
   "source": [
    "while True:\n",
    "    ret, frame = capture.read()\n",
    "#if not ret:\n",
    "#    sys.exit('Reads the next frame failed')\n",
    "#    frame = cv2.cvtColor(frame, cv2.COLOR_BGR2GRAY)\n",
    "\n",
    "    #aruco_img = detectMarkers(frame, arucoDict)\n",
    "    cv2.imshow(\"azure_kinect\", frame)\n",
    "    cv2.waitKey(0)\n",
    "    cv2.destroyAllWindows()"
   ]
  },
  {
   "cell_type": "code",
   "execution_count": 12,
   "id": "2e327b8a",
   "metadata": {},
   "outputs": [
    {
     "data": {
      "text/plain": [
       "False"
      ]
     },
     "execution_count": 12,
     "metadata": {},
     "output_type": "execute_result"
    }
   ],
   "source": [
    "ret"
   ]
  }
 ],
 "metadata": {
  "kernelspec": {
   "display_name": "Python 3",
   "language": "python",
   "name": "python3"
  },
  "language_info": {
   "codemirror_mode": {
    "name": "ipython",
    "version": 3
   },
   "file_extension": ".py",
   "mimetype": "text/x-python",
   "name": "python",
   "nbconvert_exporter": "python",
   "pygments_lexer": "ipython3",
   "version": "3.9.4"
  }
 },
 "nbformat": 4,
 "nbformat_minor": 5
}
