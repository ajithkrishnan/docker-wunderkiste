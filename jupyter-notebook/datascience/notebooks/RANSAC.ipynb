{
 "cells": [
  {
   "cell_type": "code",
   "execution_count": 1,
   "id": "cda5dd3a",
   "metadata": {},
   "outputs": [],
   "source": [
    "from sklearn import datasets\n",
    "import matplotlib.pyplot as plt"
   ]
  },
  {
   "cell_type": "code",
   "execution_count": 2,
   "id": "c2f4a09b",
   "metadata": {},
   "outputs": [],
   "source": [
    "#Load Data\n",
    "dataset = datasets.load_boston()\n",
    "x = dataset.data\n",
    "y = dataset.target"
   ]
  },
  {
   "cell_type": "code",
   "execution_count": 12,
   "id": "20f8270e",
   "metadata": {},
   "outputs": [
    {
     "name": "stdout",
     "output_type": "stream",
     "text": [
      "(506, 13)\n",
      "(506,)\n"
     ]
    }
   ],
   "source": [
    "print(x.shape)\n",
    "print(y.shape)"
   ]
  },
  {
   "cell_type": "code",
   "execution_count": 15,
   "id": "5d7869e7",
   "metadata": {},
   "outputs": [
    {
     "data": {
      "image/png": "[encoded data removed]",
      "text/plain": [
       "<Figure size 432x288 with 1 Axes>"
      ]
     },
     "metadata": {
      "needs_background": "light"
     },
     "output_type": "display_data"
    }
   ],
   "source": [
    "fig1, ax1 = plt.subplots()\n",
    "ax1.set_title('Box plot for Housing Prices')\n",
    "_ = ax1.boxplot(y, vert=False)\n"
   ]
  },
  {
   "cell_type": "code",
   "execution_count": 1,
   "id": "bd915f8c",
   "metadata": {},
   "outputs": [],
   "source": [
    "from sklearn import datasets\n",
    "from sklearn.preprocessing import StandardScaler\n",
    "from sklearn.model_selection import train_test_split\n",
    "from sklearn.linear_model import LinearRegression, RANSACRegressor\n",
    "from sklearn.metrics import r2_score, mean_squared_error\n",
    "import numpy as np\n",
    "import matplotlib.pyplot as plt\n",
    "import pandas as pd"
   ]
  },
  {
   "cell_type": "code",
   "execution_count": 23,
   "id": "297dd75e",
   "metadata": {},
   "outputs": [],
   "source": [
    "#\n",
    "# Load the Boston Housing dataset for training\n",
    "#\n",
    "bhd = datasets.load_boston()\n",
    "df = pd.DataFrame(bhd.data)\n",
    "\n",
    "df.columns = ['CRIM', 'ZN', 'INDUS', 'CHAS',\n",
    "              'NOX', 'RM', 'AGE', 'DIS', 'RAD',\n",
    "               'TAX', 'PTRATIO', 'B', 'LSTAT']\n",
    "df['MEDV'] = bhd.target"
   ]
  },
  {
   "cell_type": "code",
   "execution_count": 24,
   "id": "16551328",
   "metadata": {},
   "outputs": [
    {
     "data": {
      "text/html": [
       "<div>\n",
       "<style scoped>\n",
       "    .dataframe tbody tr th:only-of-type {\n",
       "        vertical-align: middle;\n",
       "    }\n",
       "\n",
       "    .dataframe tbody tr th {\n",
       "        vertical-align: top;\n",
       "    }\n",
       "\n",
       "    .dataframe thead th {\n",
       "        text-align: right;\n",
       "    }\n",
       "</style>\n",
       "<table border=\"1\" class=\"dataframe\">\n",
       "  <thead>\n",
       "    <tr style=\"text-align: right;\">\n",
       "      <th></th>\n",
       "      <th>CRIM</th>\n",
       "      <th>ZN</th>\n",
       "      <th>INDUS</th>\n",
       "      <th>CHAS</th>\n",
       "      <th>NOX</th>\n",
       "      <th>RM</th>\n",
       "      <th>AGE</th>\n",
       "      <th>DIS</th>\n",
       "      <th>RAD</th>\n",
       "      <th>TAX</th>\n",
       "      <th>PTRATIO</th>\n",
       "      <th>B</th>\n",
       "      <th>LSTAT</th>\n",
       "      <th>MEDV</th>\n",
       "    </tr>\n",
       "  </thead>\n",
       "  <tbody>\n",
       "    <tr>\n",
       "      <th>0</th>\n",
       "      <td>0.00632</td>\n",
       "      <td>18.0</td>\n",
       "      <td>2.31</td>\n",
       "      <td>0.0</td>\n",
       "      <td>0.538</td>\n",
       "      <td>6.575</td>\n",
       "      <td>65.2</td>\n",
       "      <td>4.0900</td>\n",
       "      <td>1.0</td>\n",
       "      <td>296.0</td>\n",
       "      <td>15.3</td>\n",
       "      <td>396.90</td>\n",
       "      <td>4.98</td>\n",
       "      <td>24.0</td>\n",
       "    </tr>\n",
       "    <tr>\n",
       "      <th>1</th>\n",
       "      <td>0.02731</td>\n",
       "      <td>0.0</td>\n",
       "      <td>7.07</td>\n",
       "      <td>0.0</td>\n",
       "      <td>0.469</td>\n",
       "      <td>6.421</td>\n",
       "      <td>78.9</td>\n",
       "      <td>4.9671</td>\n",
       "      <td>2.0</td>\n",
       "      <td>242.0</td>\n",
       "      <td>17.8</td>\n",
       "      <td>396.90</td>\n",
       "      <td>9.14</td>\n",
       "      <td>21.6</td>\n",
       "    </tr>\n",
       "    <tr>\n",
       "      <th>2</th>\n",
       "      <td>0.02729</td>\n",
       "      <td>0.0</td>\n",
       "      <td>7.07</td>\n",
       "      <td>0.0</td>\n",
       "      <td>0.469</td>\n",
       "      <td>7.185</td>\n",
       "      <td>61.1</td>\n",
       "      <td>4.9671</td>\n",
       "      <td>2.0</td>\n",
       "      <td>242.0</td>\n",
       "      <td>17.8</td>\n",
       "      <td>392.83</td>\n",
       "      <td>4.03</td>\n",
       "      <td>34.7</td>\n",
       "    </tr>\n",
       "    <tr>\n",
       "      <th>3</th>\n",
       "      <td>0.03237</td>\n",
       "      <td>0.0</td>\n",
       "      <td>2.18</td>\n",
       "      <td>0.0</td>\n",
       "      <td>0.458</td>\n",
       "      <td>6.998</td>\n",
       "      <td>45.8</td>\n",
       "      <td>6.0622</td>\n",
       "      <td>3.0</td>\n",
       "      <td>222.0</td>\n",
       "      <td>18.7</td>\n",
       "      <td>394.63</td>\n",
       "      <td>2.94</td>\n",
       "      <td>33.4</td>\n",
       "    </tr>\n",
       "    <tr>\n",
       "      <th>4</th>\n",
       "      <td>0.06905</td>\n",
       "      <td>0.0</td>\n",
       "      <td>2.18</td>\n",
       "      <td>0.0</td>\n",
       "      <td>0.458</td>\n",
       "      <td>7.147</td>\n",
       "      <td>54.2</td>\n",
       "      <td>6.0622</td>\n",
       "      <td>3.0</td>\n",
       "      <td>222.0</td>\n",
       "      <td>18.7</td>\n",
       "      <td>396.90</td>\n",
       "      <td>5.33</td>\n",
       "      <td>36.2</td>\n",
       "    </tr>\n",
       "  </tbody>\n",
       "</table>\n",
       "</div>"
      ],
      "text/plain": [
       "      CRIM    ZN  INDUS  CHAS    NOX     RM   AGE     DIS  RAD    TAX  \\\n",
       "0  0.00632  18.0   2.31   0.0  0.538  6.575  65.2  4.0900  1.0  296.0   \n",
       "1  0.02731   0.0   7.07   0.0  0.469  6.421  78.9  4.9671  2.0  242.0   \n",
       "2  0.02729   0.0   7.07   0.0  0.469  7.185  61.1  4.9671  2.0  242.0   \n",
       "3  0.03237   0.0   2.18   0.0  0.458  6.998  45.8  6.0622  3.0  222.0   \n",
       "4  0.06905   0.0   2.18   0.0  0.458  7.147  54.2  6.0622  3.0  222.0   \n",
       "\n",
       "   PTRATIO       B  LSTAT  MEDV  \n",
       "0     15.3  396.90   4.98  24.0  \n",
       "1     17.8  396.90   9.14  21.6  \n",
       "2     17.8  392.83   4.03  34.7  \n",
       "3     18.7  394.63   2.94  33.4  \n",
       "4     18.7  396.90   5.33  36.2  "
      ]
     },
     "execution_count": 24,
     "metadata": {},
     "output_type": "execute_result"
    }
   ],
   "source": [
    "df.head()"
   ]
  },
  {
   "cell_type": "code",
   "execution_count": 25,
   "id": "416c60af",
   "metadata": {},
   "outputs": [],
   "source": [
    "#\n",
    "# Select Avg. No of rooms per dwelling as feature\n",
    "# and fit the model\n",
    "#\n",
    "X = df['RM'].to_numpy().reshape(-1, 1)\n",
    "y = df['MEDV'].to_numpy().reshape(-1, 1)"
   ]
  },
  {
   "cell_type": "code",
   "execution_count": 26,
   "id": "7f552543",
   "metadata": {},
   "outputs": [
    {
     "data": {
      "image/png": "[encoded data removed]",
      "text/plain": [
       "<Figure size 432x288 with 1 Axes>"
      ]
     },
     "metadata": {
      "needs_background": "light"
     },
     "output_type": "display_data"
    }
   ],
   "source": [
    "np.random.seed(100)\n",
    "N = 50\n",
    "noise = 10.\n",
    "X = np.arange(N) + noise*np.random.rand(N)\n",
    "y = np.arange(N) + noise*np.random.rand(N)\n",
    "X = X.reshape(-1,1)\n",
    "y = y.reshape(-1,1)\n",
    "_ = plt.scatter(X, y)"
   ]
  },
  {
   "cell_type": "code",
   "execution_count": 2,
   "id": "d07f68df",
   "metadata": {},
   "outputs": [],
   "source": [
    "import math\n",
    "import json"
   ]
  },
  {
   "cell_type": "code",
   "execution_count": 3,
   "id": "8bf3e85c",
   "metadata": {},
   "outputs": [],
   "source": [
    "FILE = \"scan_data.json\"\n",
    "#with open(FILE, 'r') as f:\n",
    "f = open(FILE, 'r')\n",
    "laser_data = json.load(f)\n",
    "f.close()\n"
   ]
  },
  {
   "cell_type": "code",
   "execution_count": 4,
   "id": "a411429f",
   "metadata": {},
   "outputs": [],
   "source": [
    "def convert_scan(scan):\n",
    "    angle_min = scan['angle_min']\n",
    "    angle_max = scan['angle_max']\n",
    "    angle_inc = scan['angle_increment']\n",
    "    range_min = scan['range_min']\n",
    "    #range_max = scan['range_max']\n",
    "    range_max = 20.\n",
    "    rho = scan['ranges']\n",
    "    \n",
    "\n",
    "    \n",
    "    angle_inc = (angle_max - angle_min)/len(rho)\n",
    "    theta = [angle_min + i*angle_inc for i in range(len(rho))]\n",
    "\n",
    "    \n",
    "    mask = np.asarray(rho) > range_max\n",
    "    rho = np.delete(rho, mask)\n",
    "    theta = np.delete(theta, mask)\n",
    "   \n",
    "   \n",
    "    X = np.multiply(rho, np.cos(theta)).reshape(-1,1)\n",
    "    y = np.multiply(rho, np.sin(theta)).reshape(-1,1)\n",
    "    \n",
    "    return X, y"
   ]
  },
  {
   "cell_type": "code",
   "execution_count": 5,
   "id": "770761e5",
   "metadata": {},
   "outputs": [],
   "source": [
    "X, y = convert_scan(laser_data)"
   ]
  },
  {
   "cell_type": "code",
   "execution_count": 6,
   "id": "0837ef3a",
   "metadata": {},
   "outputs": [
    {
     "data": {
      "image/png": "[encoded data removed]",
      "text/plain": [
       "<Figure size 2880x2160 with 1 Axes>"
      ]
     },
     "metadata": {
      "needs_background": "light"
     },
     "output_type": "display_data"
    }
   ],
   "source": [
    "plt.figure(figsize=(40, 30))\n",
    "_ = plt.scatter(X, y)"
   ]
  },
  {
   "cell_type": "code",
   "execution_count": 48,
   "id": "8afa8a48",
   "metadata": {},
   "outputs": [
    {
     "data": {
      "image/png": "[encoded data removed]",
      "text/plain": [
       "<Figure size 2880x2160 with 1 Axes>"
      ]
     },
     "metadata": {
      "needs_background": "light"
     },
     "output_type": "display_data"
    }
   ],
   "source": [
    "#\n",
    "# Create an instance of RANSACRegressor\n",
    "#\n",
    "#ransac = RANSACRegressor(base_estimator=LinearRegression(),\n",
    "#                         min_samples=10, max_trials=2000,\n",
    "#                         loss='absolute_loss', random_state=42,\n",
    "#                         residual_threshold=0.05)\n",
    "ransac = RANSACRegressor(base_estimator=LinearRegression(),\n",
    "                         min_samples=10, max_trials=2000,\n",
    "                         loss='absolute_loss', random_state=42,\n",
    "                         residual_threshold=0.05)\n",
    "#\n",
    "# Fit the model\n",
    "#\n",
    "ransac.fit(X, y)\n",
    "\n",
    "#\n",
    "# Get the Inlier mask; Create outlier mask\n",
    "#\n",
    "inlier_mask = ransac.inlier_mask_\n",
    "outlier_mask = np.logical_not(inlier_mask)\n",
    "\n",
    "#\n",
    "# Create scatter plot for inlier datset\n",
    "#\n",
    "plt.figure(figsize=(40, 30))\n",
    "plt.scatter(X[inlier_mask], y[inlier_mask],\n",
    "            c='steelblue', marker='o', label='Inliers')\n",
    "#\n",
    "# Create scatter plot for outlier datset\n",
    "#\n",
    "plt.scatter(X[outlier_mask], y[outlier_mask],\n",
    "             c='limegreen', edgecolor='white',\n",
    "             marker='s', label='Outliers')\n",
    "#\n",
    "# Draw the best fit line\n",
    "#\n",
    "#line_X = np.arange(-1, 2, 1)\n",
    "line_X = np.array([-1, 1])\n",
    "#line_X = np.arange(np.min(X), np.max(X),1)\n",
    "line_y_ransac = ransac.predict(line_X[:, np.newaxis])\n",
    "\n",
    "point1 = np.array([line_X[0], line_y_ransac[0][0]])\n",
    "point2 = np.array([line_X[1], line_y_ransac[1][0]])\n",
    "dir_vec = compute_perp(np.array([np.diff(line_X, axis=0)[0], np.diff(line_y_ransac, axis=0)[0][0]])) \n",
    "dir_vec += point1\n",
    "\n",
    "\n",
    "\n",
    "plt.plot(line_X, line_y_ransac, color='black', lw=2)\n",
    "#plt.plot([point1[0], dir_vec[0]], [point1[1], dir_vec[1]], color='blue', lw=2)\n",
    "plt.xlabel('Average number of rooms [RM]', fontsize=15)\n",
    "plt.ylabel('Price in $1000s [MEDV]', fontsize=15)\n",
    "plt.legend(loc='upper left', fontsize=12)\n",
    "plt.show()"
   ]
  },
  {
   "cell_type": "code",
   "execution_count": 124,
   "id": "919d1cf3",
   "metadata": {},
   "outputs": [
    {
     "data": {
      "text/plain": [
       "array([[-1.47941677],\n",
       "       [-0.57992245],\n",
       "       [ 0.31957187]])"
      ]
     },
     "execution_count": 124,
     "metadata": {},
     "output_type": "execute_result"
    }
   ],
   "source": [
    "line_y_ransac"
   ]
  },
  {
   "cell_type": "code",
   "execution_count": 137,
   "id": "eca47010",
   "metadata": {},
   "outputs": [],
   "source": [
    "from sympy import Line"
   ]
  },
  {
   "cell_type": "code",
   "execution_count": 190,
   "id": "61836636",
   "metadata": {},
   "outputs": [
    {
     "name": "stdout",
     "output_type": "stream",
     "text": [
      "3.141592653589793\n"
     ]
    }
   ],
   "source": [
    "#l1 = Line((line_X[0],line_y_ransac[0][0]), (line_X[1],line_y_ransac[1][0]))\n",
    "#l2 = Line((line_X[0],line_y_ransac[0][0]), (line_X[1],line_y_ransac[1][0]))\n",
    "l1 = Line((0,0),(1,0))\n",
    "l2 = Line((0,0),(-1,0))\n",
    "\n",
    "angle = float(l1.angle_between(l2)) \n",
    "\n",
    "print(angle)"
   ]
  },
  {
   "cell_type": "code",
   "execution_count": 42,
   "id": "75f29c81",
   "metadata": {},
   "outputs": [
    {
     "name": "stdout",
     "output_type": "stream",
     "text": [
      "\n",
      "The angle between the two joined lines is 90.0\n"
     ]
    }
   ],
   "source": [
    "\"\"\" Calculate the angle between two lines that join at (x1, y1) \"\"\"\n",
    "\n",
    "from math import atan2, pi\n",
    "\n",
    "def calculate_angle(x1,y1,x2,y2,x3,y3,x4,y4):\n",
    "    # Calculate the angles created.\n",
    "    delta_x = float(x2 - x1)\n",
    "    delta_y = float(y2 - y1)\n",
    "    answer = atan2(delta_y, delta_x)*180.0/pi\n",
    "\n",
    "    delta_x = float(x4 - x3)\n",
    "    delta_y = float(y4 - y3)\n",
    "    answer1 = atan2(delta_y, delta_x)*180.0/pi\n",
    "\n",
    "    # Get the answer\n",
    "    if answer > answer1:\n",
    "        return answer-answer1\n",
    "    else:\n",
    "        return answer1-answer\n",
    "\n",
    "\n",
    "x1, y1, x2, y2 = 1.0, 1.0, 1.0, 3.0\n",
    "print(\"\")\n",
    "x3, y3 = x1 ,y1\n",
    "x4, y4 = 1.0, 1.0\n",
    "#result = calculate_angle(x1,y1,x2,y2,x3,y3,x4,y4)\n",
    "result = calculate_angle(point1[0], point1[1], point2[0], point2[1], point1[0], point1[1], dir_vec[0], dir_vec[1])\n",
    "print(\"The angle between the two joined lines is\",result)"
   ]
  },
  {
   "cell_type": "code",
   "execution_count": 99,
   "id": "c1b0b35f",
   "metadata": {},
   "outputs": [],
   "source": [
    "def hough_line(img):\n",
    "    # Rho and Theta ranges\n",
    "    thetas = np.deg2rad(np.arange(-90.0, 90.0))\n",
    "    width, height = img.shape\n",
    "    diag_len = np.ceil(np.sqrt(width * width + height * height))   # max_dist\n",
    "    rhos = np.linspace(int(-diag_len), int(diag_len), int(diag_len * 2.0))\n",
    "\n",
    "    # Cache some resuable values\n",
    "    cos_t = np.cos(thetas)\n",
    "    sin_t = np.sin(thetas)\n",
    "    num_thetas = len(thetas)\n",
    "\n",
    "    # Hough accumulator array of theta vs rho\n",
    "    accumulator = np.zeros((2 * int(diag_len), num_thetas), dtype=np.uint64)\n",
    "    y_idxs, x_idxs = np.nonzero(img)  # (row, col) indexes to edges\n",
    "\n",
    "    # Vote in the hough accumulator\n",
    "    for i in range(len(x_idxs)):\n",
    "        x = x_idxs[i]\n",
    "        y = y_idxs[i]\n",
    "\n",
    "    for t_idx in range(num_thetas):\n",
    "      # Calculate rho. diag_len is added for a positive index\n",
    "        rho = round(x * cos_t[t_idx] + y * sin_t[t_idx]) + diag_len\n",
    "        accumulator[int(rho), t_idx] += 1\n",
    "\n",
    "    return accumulator, thetas, rhos\n"
   ]
  },
  {
   "cell_type": "code",
   "execution_count": 135,
   "id": "45d70b65",
   "metadata": {},
   "outputs": [
    {
     "name": "stdout",
     "output_type": "stream",
     "text": [
      "rho=-38.77, theta=-90\n"
     ]
    },
    {
     "data": {
      "text/plain": [
       "<matplotlib.image.AxesImage at 0x7f5882597970>"
      ]
     },
     "execution_count": 135,
     "metadata": {},
     "output_type": "execute_result"
    },
    {
     "data": {
      "image/png": "[encoded data removed]",
      "text/plain": [
       "<Figure size 432x288 with 1 Axes>"
      ]
     },
     "metadata": {
      "needs_background": "light"
     },
     "output_type": "display_data"
    }
   ],
   "source": [
    "\n",
    "# Create binary image and call hough_line\n",
    "image = np.zeros((50,50))\n",
    "image[10:40, 10:40] = np.eye(30)\n",
    "accumulator, thetas, rhos = hough_line(image)\n",
    "\n",
    "# Easiest peak finding based on max votes\n",
    "idx = int(np.argmax(accumulator))\n",
    "rho = rhos[int(idx / accumulator.shape[1])]\n",
    "theta = thetas[idx % accumulator.shape[1]]\n",
    "print(\"rho={0:.2f}, theta={1:.0f}\".format(rho, np.rad2deg(theta)))\n",
    "plt.imshow(image)"
   ]
  },
  {
   "cell_type": "code",
   "execution_count": 8,
   "id": "54d765b6",
   "metadata": {},
   "outputs": [],
   "source": [
    "def py_ang(v1, v2):\n",
    "    \"\"\" Returns the angle in radians between vectors 'v1' and 'v2'    \"\"\"\n",
    "    cos_theta = np.dot(v1, v2)\n",
    "    sin_theta = np.linalg.norm(np.cross(v1, v2))\n",
    "    print(sin_theta)\n",
    "    print(cos_theta)\n",
    "    print(sin_theta/cos_theta)\n",
    "    return np.arctan2(sin_theta, cos_theta) \n",
    "    #return np.arctan2(v1, v2)"
   ]
  },
  {
   "cell_type": "code",
   "execution_count": 9,
   "id": "d86ee359",
   "metadata": {},
   "outputs": [
    {
     "name": "stdout",
     "output_type": "stream",
     "text": [
      "5.0\n",
      "-5.0\n",
      "-1.0\n"
     ]
    },
    {
     "data": {
      "text/plain": [
       "2.356194490192345"
      ]
     },
     "execution_count": 9,
     "metadata": {},
     "output_type": "execute_result"
    }
   ],
   "source": [
    "#v1 = np.array([[0.0, 0.0], [1.0, 0.0]])\n",
    "#v2 = np.array([[0.0, 0.0], [0.0, 1.0]])\n",
    "v1 = np.array([1.0, 0.0])\n",
    "v2 = np.array([-5.0, -5.0])\n",
    "\n",
    "py_ang(v2, v1)"
   ]
  },
  {
   "cell_type": "code",
   "execution_count": 206,
   "id": "fad68059",
   "metadata": {},
   "outputs": [
    {
     "data": {
      "text/plain": [
       "array([-1,  1])"
      ]
     },
     "execution_count": 206,
     "metadata": {},
     "output_type": "execute_result"
    }
   ],
   "source": [
    "line_X"
   ]
  },
  {
   "cell_type": "code",
   "execution_count": 207,
   "id": "47209a2d",
   "metadata": {},
   "outputs": [
    {
     "data": {
      "text/plain": [
       "array([[-1.47941677],\n",
       "       [ 0.31957187]])"
      ]
     },
     "execution_count": 207,
     "metadata": {},
     "output_type": "execute_result"
    }
   ],
   "source": [
    "line_y_ransac"
   ]
  },
  {
   "cell_type": "code",
   "execution_count": 226,
   "id": "eecce7ca",
   "metadata": {},
   "outputs": [
    {
     "name": "stdout",
     "output_type": "stream",
     "text": [
      "2\n"
     ]
    }
   ],
   "source": [
    "print(np.diff(line_X, axis=0)[0])"
   ]
  },
  {
   "cell_type": "code",
   "execution_count": 224,
   "id": "499d012d",
   "metadata": {},
   "outputs": [
    {
     "data": {
      "text/plain": [
       "1.7989886352140343"
      ]
     },
     "execution_count": 224,
     "metadata": {},
     "output_type": "execute_result"
    }
   ],
   "source": [
    "np.diff(line_y_ransac, axis=0)[0][0]"
   ]
  },
  {
   "cell_type": "code",
   "execution_count": null,
   "id": "d5b5ee3b",
   "metadata": {},
   "outputs": [],
   "source": []
  },
  {
   "cell_type": "code",
   "execution_count": 36,
   "id": "aa19f7fb",
   "metadata": {},
   "outputs": [
    {
     "name": "stdout",
     "output_type": "stream",
     "text": [
      "[2.         1.79898864]\n",
      "[-1.         -1.47941677]\n",
      "[1.         0.31957187]\n",
      "[1.         0.31957187]\n"
     ]
    }
   ],
   "source": [
    "\n",
    "#v1 = np.array([line_X[0], line_y_ransac[0][0]])\n",
    "#v2 = np.array([line_X[1], line_y_ransac[1][0]])\n",
    "\n",
    "v1 = np.array([np.diff(line_X, axis=0)[0], np.diff(line_y_ransac, axis=0)[0][0]])\n",
    "v2 = np.array([line_X[0], line_y_ransac[0][0]])\n",
    "v3 = np.array([line_X[1], line_y_ransac[1][0]])\n",
    "\n",
    "print(v1)\n",
    "print(v2)\n",
    "print(v1 + v2)\n",
    "print(v3)\n",
    "\n",
    "#py_ang(v2,v1)"
   ]
  },
  {
   "cell_type": "code",
   "execution_count": 40,
   "id": "4a5e71a1",
   "metadata": {},
   "outputs": [],
   "source": [
    "def compute_perp( a ) :\n",
    "    b = np.empty_like(a)\n",
    "    b[0] = a[1]\n",
    "    b[1] = -1*a[0]\n",
    "    return b"
   ]
  },
  {
   "cell_type": "code",
   "execution_count": 38,
   "id": "de088b64",
   "metadata": {},
   "outputs": [
    {
     "name": "stdout",
     "output_type": "stream",
     "text": [
      "[2.         1.79898864]\n",
      "[ 1.79898864 -2.        ]\n"
     ]
    }
   ],
   "source": [
    "print(v1)\n",
    "v1_perp = perp_vec(v1)\n",
    "print(v1_perp)"
   ]
  },
  {
   "cell_type": "code",
   "execution_count": 27,
   "id": "63ead5e6",
   "metadata": {},
   "outputs": [
    {
     "name": "stdout",
     "output_type": "stream",
     "text": [
      "[1.         0.31957187]\n"
     ]
    }
   ],
   "source": [
    "print(v2)\n",
    "v2_perp = perp_vec(v2)\n",
    "print(v2_perp)"
   ]
  },
  {
   "cell_type": "code",
   "execution_count": 46,
   "id": "910d36a5",
   "metadata": {},
   "outputs": [
    {
     "data": {
      "text/plain": [
       "array([-1.47941677,  0.31957187])"
      ]
     },
     "execution_count": 46,
     "metadata": {},
     "output_type": "execute_result"
    }
   ],
   "source": [
    "line_y_ransac.flatten()"
   ]
  }
 ],
 "metadata": {
  "kernelspec": {
   "display_name": "Python 3",
   "language": "python",
   "name": "python3"
  },
  "language_info": {
   "codemirror_mode": {
    "name": "ipython",
    "version": 3
   },
   "file_extension": ".py",
   "mimetype": "text/x-python",
   "name": "python",
   "nbconvert_exporter": "python",
   "pygments_lexer": "ipython3",
   "version": "3.9.4"
  }
 },
 "nbformat": 4,
 "nbformat_minor": 5
}
